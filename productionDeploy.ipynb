{
 "cells": [
  {
   "cell_type": "code",
   "execution_count": null,
   "id": "aa81660e",
   "metadata": {},
   "outputs": [],
   "source": [
    "# Save best ensemble model\n",
    "import joblib\n",
    "\n",
    "# Train final model on ALL data\n",
    "X_final = model_df[TOP_FEATURES].values\n",
    "y_final = model_df['capacity_ratio'].values\n",
    "\n",
    "stacking_gb_final = StackingRegressor(\n",
    "    estimators=base_learners,\n",
    "    final_estimator=GradientBoostingRegressor(n_estimators=100, random_state=42),\n",
    "    cv=5\n",
    ")\n",
    "stacking_gb_final.fit(X_final, y_final)\n",
    "\n",
    "# Save model\n",
    "joblib.dump(stacking_gb_final, 'models/battery_soh_ensemble_final.pkl')\n",
    "print(\"✓ Model saved: battery_soh_ensemble_final.pkl\")\n",
    "\n",
    "# Save scaler\n",
    "joblib.dump(scaler, 'models/robust_scaler.pkl')\n",
    "print(\"✓ Scaler saved: robust_scaler.pkl\")\n",
    "\n",
    "# Save feature list\n",
    "np.save('models/top_features.npy', np.array(TOP_FEATURES))\n",
    "print(\"✓ Features saved: top_features.npy\")"
   ]
  }
 ],
 "metadata": {
  "language_info": {
   "name": "python"
  }
 },
 "nbformat": 4,
 "nbformat_minor": 5
}
